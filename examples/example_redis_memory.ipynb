{
 "cells": [
  {
   "cell_type": "code",
   "execution_count": null,
   "metadata": {
    "ExecuteTime": {
     "end_time": "2023-04-06T18:08:30.639587Z",
     "start_time": "2023-04-06T18:08:30.611335Z"
    },
    "collapsed": true
   },
   "outputs": [],
   "source": [
    "# Activate logging\n",
    "import logging\n",
    "\n",
    "logging.basicConfig(format=\"%(levelname)s - %(name)s -  %(message)s\", level=logging.WARNING)\n",
    "logging.getLogger(\"haystack\").setLevel(logging.INFO)"
   ]
  },
  {
   "cell_type": "code",
   "execution_count": null,
   "metadata": {
    "ExecuteTime": {
     "end_time": "2023-04-06T18:08:39.189513Z",
     "start_time": "2023-04-06T18:08:30.625069Z"
    }
   },
   "outputs": [],
   "source": [
    "from getpass import getpass\n",
    "\n",
    "openai_api_key = getpass(\"Enter OpenAI API key:\")"
   ]
  },
  {
   "cell_type": "code",
   "execution_count": null,
   "metadata": {
    "ExecuteTime": {
     "end_time": "2023-04-06T18:08:39.192030Z",
     "start_time": "2023-04-06T18:08:39.159761Z"
    }
   },
   "outputs": [],
   "source": [
    "from haystack.document_stores import InMemoryDocumentStore\n",
    "\n",
    "document_store = InMemoryDocumentStore(\n",
    "    similarity=\"cosine\",\n",
    "    index=\"document\",\n",
    "    embedding_field=\"embedding\",\n",
    "    embedding_dim=1536\n",
    ")"
   ]
  },
  {
   "cell_type": "code",
   "execution_count": null,
   "metadata": {
    "ExecuteTime": {
     "end_time": "2023-04-06T18:08:40.387415Z",
     "start_time": "2023-04-06T18:08:39.176470Z"
    }
   },
   "outputs": [],
   "source": [
    "from datasets import load_dataset\n",
    "\n",
    "# load seven wonders dataset from datasets and write documents into elasticsearch document store\n",
    "\n",
    "dataset = load_dataset(\"bilgeyucel/seven-wonders\", split=\"train\")\n",
    "document_store.write_documents(dataset)"
   ]
  },
  {
   "cell_type": "code",
   "execution_count": null,
   "metadata": {
    "ExecuteTime": {
     "end_time": "2023-04-06T18:08:46.458392Z",
     "start_time": "2023-04-06T18:08:40.357262Z"
    }
   },
   "outputs": [],
   "source": [
    "from haystack.nodes import EmbeddingRetriever, OpenAIAnswerGenerator\n",
    "\n",
    "# define retriever model , update dense vector embeddings on document store index and define generator model\n",
    "retriever = EmbeddingRetriever(\n",
    "    document_store=document_store,\n",
    "    embedding_model=\"text-embedding-ada-002\",\n",
    "    api_key=openai_api_key,\n",
    "    max_seq_len=1024,\n",
    "    top_k=5,\n",
    ")\n",
    "document_store.update_embeddings(retriever=retriever)"
   ]
  },
  {
   "cell_type": "code",
   "execution_count": null,
   "metadata": {
    "ExecuteTime": {
     "end_time": "2023-04-06T18:08:46.469724Z",
     "start_time": "2023-04-06T18:08:46.456383Z"
    }
   },
   "outputs": [],
   "source": [
    "# define the QA tool's prompt template\n",
    "\n",
    "from haystack.nodes import PromptNode, PromptTemplate\n",
    "\n",
    "QA_promptnode = PromptTemplate(\n",
    "            name=\"zero-shot-QA\",\n",
    "            prompt_text=\"You are a helpful and knowledgeable agent. Only Answer if the {documents} contain the answer. If the user question is not related to the provided {documents}, say I don't have an answer\\n\"\n",
    "            \"Question: {query}\\n\"\n",
    "            \"Answer:\"\n",
    "        )"
   ]
  },
  {
   "cell_type": "code",
   "execution_count": null,
   "metadata": {},
   "outputs": [],
   "source": [
    "# declare the QA pipeline's prompt node\n",
    "QA_builder = PromptNode(model_name_or_path=\"text-davinci-003\", api_key=openai_api_key, default_prompt_template=QA_promptnode)"
   ]
  },
  {
   "cell_type": "code",
   "execution_count": null,
   "metadata": {},
   "outputs": [],
   "source": [
    "# Build the QA pipeline tool\n",
    "from haystack import Pipeline\n",
    "\n",
    "pipe = Pipeline()\n",
    "pipe.add_node(component=retriever, name=\"Retriever\", inputs=[\"Query\"])\n",
    "pipe.add_node(component=QA_builder, name=\"Generator\", inputs=[\"Retriever\"])"
   ]
  },
  {
   "cell_type": "code",
   "execution_count": null,
   "metadata": {
    "ExecuteTime": {
     "end_time": "2023-04-06T18:08:46.622550Z",
     "start_time": "2023-04-06T18:08:46.469724Z"
    }
   },
   "outputs": [],
   "source": [
    "from haystack_memory.prompt_templates import memory_template\n",
    "from haystack.agents import Agent, Tool\n",
    "from haystack.nodes import PromptNode\n",
    "\n",
    "# create agent prompt node and define our Agent \"memory_agent\"\n",
    "prompt_node = PromptNode(model_name_or_path=\"text-davinci-003\", api_key=openai_api_key, max_length=512,\n",
    "                         stop_words=[\"Observation:\"])\n",
    "memory_agent = Agent(prompt_node=prompt_node, prompt_template=memory_template)\n",
    "# Define the first tool: A document store QA tool based on the pipeline\n",
    "search_tool = Tool(name=\"DocumentStore_QA\",\n",
    "                   pipeline_or_node=pipe,\n",
    "                   description=\"Access this tool to find out missing information needed to answer questions\",\n",
    "                   output_variable=\"answers\")"
   ]
  },
  {
   "cell_type": "code",
   "execution_count": null,
   "metadata": {
    "ExecuteTime": {
     "end_time": "2023-04-06T18:08:46.637059Z",
     "start_time": "2023-04-06T18:08:46.623545Z"
    }
   },
   "outputs": [],
   "source": [
    "from haystack_memory.memory import RedisMemoryRecallNode\n",
    "\n",
    "sensory_memory = []\n",
    "redis_memory_node = RedisMemoryRecallNode(memory_id=\"working_memory\",\n",
    "                                          host=\"localhost\",\n",
    "                                          port=6379,\n",
    "                                          db=0)\n",
    "memory_tool = Tool(name=\"Memory\",\n",
    "                   pipeline_or_node=redis_memory_node,\n",
    "                   description=\"Your memory. Always access this tool first to remember what you have learned.\")"
   ]
  },
  {
   "cell_type": "code",
   "execution_count": null,
   "metadata": {
    "ExecuteTime": {
     "end_time": "2023-04-06T18:08:46.657087Z",
     "start_time": "2023-04-06T18:08:46.638059Z"
    }
   },
   "outputs": [],
   "source": [
    "# Add the memory and the search tool to the agent\n",
    "memory_agent.add_tool(search_tool)\n",
    "memory_agent.add_tool(memory_tool)"
   ]
  },
  {
   "cell_type": "code",
   "execution_count": null,
   "metadata": {
    "ExecuteTime": {
     "end_time": "2023-04-06T18:08:49.938183Z",
     "start_time": "2023-04-06T18:08:46.654083Z"
    }
   },
   "outputs": [],
   "source": [
    "from haystack_memory.utils import RedisUtils\n",
    "\n",
    "# Chat with the agent\n",
    "redis_utils = RedisUtils(agent=memory_agent,\n",
    "                         sensory_memory=sensory_memory,\n",
    "                         memory_id=\"working_memory\",\n",
    "                         host= \"localhost\",\n",
    "                         port=6379,\n",
    "                         db=0)\n",
    "result = redis_utils.chat(\"where did zeus' golden sandals rest?\")"
   ]
  },
  {
   "cell_type": "code",
   "execution_count": null,
   "metadata": {
    "ExecuteTime": {
     "end_time": "2023-04-06T18:08:55.168975Z",
     "start_time": "2023-04-06T18:08:49.939179Z"
    }
   },
   "outputs": [],
   "source": [
    "result = redis_utils.chat(\"which muslim general raided the city of Rhodes?\")"
   ]
  },
  {
   "cell_type": "code",
   "execution_count": null,
   "metadata": {},
   "outputs": [],
   "source": [
    "print(result)"
   ]
  }
 ],
 "metadata": {
  "kernelspec": {
   "display_name": "Python 3 (ipykernel)",
   "language": "python",
   "name": "python3"
  },
  "language_info": {
   "codemirror_mode": {
    "name": "ipython",
    "version": 3
   },
   "file_extension": ".py",
   "mimetype": "text/x-python",
   "name": "python",
   "nbconvert_exporter": "python",
   "pygments_lexer": "ipython3",
   "version": "3.10.6"
  }
 },
 "nbformat": 4,
 "nbformat_minor": 1
}
